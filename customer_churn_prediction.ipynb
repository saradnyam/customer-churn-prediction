{
  "nbformat": 4,
  "nbformat_minor": 0,
  "metadata": {
    "colab": {
      "provenance": [],
      "authorship_tag": "ABX9TyOTSze2XNTd7J6dWAJ+kswX",
      "include_colab_link": true
    },
    "kernelspec": {
      "name": "python3",
      "display_name": "Python 3"
    },
    "language_info": {
      "name": "python"
    }
  },
  "cells": [
    {
      "cell_type": "markdown",
      "metadata": {
        "id": "view-in-github",
        "colab_type": "text"
      },
      "source": [
        "<a href=\"https://colab.research.google.com/github/saradnyam/customer-churn-prediction/blob/main/customer_churn_prediction.ipynb\" target=\"_parent\"><img src=\"https://colab.research.google.com/assets/colab-badge.svg\" alt=\"Open In Colab\"/></a>"
      ]
    },
    {
      "cell_type": "code",
      "execution_count": null,
      "metadata": {
        "colab": {
          "base_uri": "https://localhost:8080/",
          "height": 643
        },
        "id": "mLyIigZT4pf7",
        "outputId": "7cc9a14b-2734-407f-c417-3e74a2834f60"
      },
      "outputs": [
        {
          "output_type": "stream",
          "name": "stdout",
          "text": [
            "[[786 251]\n",
            " [156 873]]\n",
            "              precision    recall  f1-score   support\n",
            "\n",
            "           0       0.83      0.76      0.79      1037\n",
            "           1       0.78      0.85      0.81      1029\n",
            "\n",
            "    accuracy                           0.80      2066\n",
            "   macro avg       0.81      0.80      0.80      2066\n",
            "weighted avg       0.81      0.80      0.80      2066\n",
            "\n"
          ]
        },
        {
          "output_type": "display_data",
          "data": {
            "text/plain": [
              "<Figure size 640x480 with 2 Axes>"
            ],
            "image/png": "[encoded data removed]"
          },
          "metadata": {}
        }
      ],
      "source": [
        "# Step 1: Import libraries\n",
        "import pandas as pd\n",
        "import seaborn as sns\n",
        "import matplotlib.pyplot as plt\n",
        "from sklearn.preprocessing import StandardScaler, LabelEncoder\n",
        "from sklearn.model_selection import train_test_split\n",
        "from sklearn.linear_model import LogisticRegression\n",
        "from sklearn.metrics import confusion_matrix, classification_report\n",
        "from imblearn.over_sampling import SMOTE\n",
        "import os\n",
        "\n",
        "# Step 2: Load & preprocess dataset\n",
        "df = pd.read_csv('/WA_Fn-UseC_-Telco-Customer-Churn.csv')\n",
        "df.drop(['customerID'], axis=1, inplace=True)\n",
        "df['TotalCharges'] = pd.to_numeric(df['TotalCharges'], errors='coerce')\n",
        "df.dropna(inplace=True)\n",
        "\n",
        "# Step 3: Encode categorical features\n",
        "for col in df.select_dtypes(include='object').columns:\n",
        "    if col != 'Churn':\n",
        "        df[col] = LabelEncoder().fit_transform(df[col])\n",
        "\n",
        "df['Churn'] = df['Churn'].map({'Yes': 1, 'No': 0})\n",
        "\n",
        "# Step 4: Split & scale data\n",
        "X = df.drop('Churn', axis=1)\n",
        "y = df['Churn']\n",
        "X, y = SMOTE().fit_resample(X, y)\n",
        "\n",
        "scaler = StandardScaler()\n",
        "X_scaled = scaler.fit_transform(X)\n",
        "\n",
        "X_train, X_test, y_train, y_test = train_test_split(X_scaled, y, test_size=0.2, random_state=42)\n",
        "\n",
        "# Step 5: Train model\n",
        "model = LogisticRegression(max_iter=3000)\n",
        "model.fit(X_train, y_train)\n",
        "\n",
        "# Step 6: Evaluate model\n",
        "y_pred = model.predict(X_test)\n",
        "print(confusion_matrix(y_test, y_pred))\n",
        "print(classification_report(y_test, y_pred))\n",
        "\n",
        "# Step 7: Visualizations\n",
        "# Create the directory if it doesn't exist\n",
        "if not os.path.exists('visuals'):\n",
        "    os.makedirs('visuals')\n",
        "\n",
        "sns.heatmap(confusion_matrix(y_test, y_pred), annot=True, fmt='d')\n",
        "plt.title(\"Confusion Matrix\")\n",
        "plt.savefig(\"visuals/confusion_matrix.png\")"
      ]
    }
  ]
}